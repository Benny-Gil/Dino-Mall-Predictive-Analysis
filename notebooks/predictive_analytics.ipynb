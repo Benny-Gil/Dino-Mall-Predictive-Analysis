{
 "cells": [
  {
   "cell_type": "markdown",
   "id": "5e995ff4",
   "metadata": {},
   "source": [
    "## Predictive Analysis Objectives (Association Rule Mining)\n",
    "\n",
    "Based on the given dataset, the *potential* objectives for predictive analysis using association rule mining are:\n",
    "\n",
    "1. **Identifying Cross-Shopping Behavior**\n",
    "2. **Identifying Amenity Preferences Based on Store Choices**\n",
    "3. **Identifying the Optimal Store Sequences**"
   ]
  },
  {
   "metadata": {
    "ExecuteTime": {
     "end_time": "2025-03-05T20:02:31.603997Z",
     "start_time": "2025-03-05T20:02:31.521199Z"
    }
   },
   "cell_type": "code",
   "source": [
    "import pandas as pd\n",
    "from mlxtend.preprocessing import TransactionEncoder\n",
    "from mlxtend.frequent_patterns import apriori, fpmax, fpgrowth\n",
    "from mlxtend.frequent_patterns import association_rules\n",
    "\n",
    "\n",
    "\n",
    "# Load the CSV file\n",
    "file_path = '../data/dino_mall_cleaned.csv'\n",
    "df = pd.DataFrame(pd.read_csv(file_path))\n",
    "df.shape\n",
    "# df.head()"
   ],
   "id": "e99054d81588a4c",
   "outputs": [
    {
     "data": {
      "text/plain": [
       "(113, 34)"
      ]
     },
     "execution_count": 105,
     "metadata": {},
     "output_type": "execute_result"
    }
   ],
   "execution_count": 105
  },
  {
   "metadata": {
    "ExecuteTime": {
     "end_time": "2025-03-05T20:02:31.752364Z",
     "start_time": "2025-03-05T20:02:31.738899Z"
    }
   },
   "cell_type": "code",
   "source": [
    "# get the categories of stores\n",
    "unique_values = df.iloc[:, 7].unique()\n",
    "unique_values"
   ],
   "id": "a2f297a07aa1c327",
   "outputs": [
    {
     "data": {
      "text/plain": [
       "array(['Electronics and Gadgets', 'Entertainment', 'Food and Beverages',\n",
       "       'Apparel and Fashion', 'Services', 'Specialty Stores',\n",
       "       'Department Stores',\n",
       "       'Beauty and Personal Care, Health and Wellness',\n",
       "       'Home Furnishings and Decor'], dtype=object)"
      ]
     },
     "execution_count": 106,
     "metadata": {},
     "output_type": "execute_result"
    }
   ],
   "execution_count": 106
  },
  {
   "metadata": {
    "ExecuteTime": {
     "end_time": "2025-03-05T20:02:31.908563Z",
     "start_time": "2025-03-05T20:02:31.887759Z"
    }
   },
   "cell_type": "code",
   "source": [
    "# get store columns (index 7 to 16)\n",
    "amenities_beside_comfort_rooms = df.iloc[:, 29]\n",
    "amenities_beside_comfort_rooms"
   ],
   "id": "efb54db238d029d5",
   "outputs": [
    {
     "data": {
      "text/plain": [
       "0      Apparel and Fashion, Department Stores, Entert...\n",
       "1                                     Food and Beverages\n",
       "2            Entertainment, Food and Beverages, Services\n",
       "3                                     Food and Beverages\n",
       "4      Apparel and Fashion, Entertainment, Food and B...\n",
       "                             ...                        \n",
       "108    Electronics and Gadgets, Entertainment, Food a...\n",
       "109    Beauty, Personnel, Health and Wellness, Entert...\n",
       "110               Beauty, Personnel, Health and Wellness\n",
       "111                              Electronics and Gadgets\n",
       "112    Apparel and Fashion, Department Stores, Home F...\n",
       "Name: amenities_beside_comfort_rooms, Length: 113, dtype: object"
      ]
     },
     "execution_count": 107,
     "metadata": {},
     "output_type": "execute_result"
    }
   ],
   "execution_count": 107
  },
  {
   "metadata": {
    "ExecuteTime": {
     "end_time": "2025-03-05T20:02:32.017409Z",
     "start_time": "2025-03-05T20:02:32.011912Z"
    }
   },
   "cell_type": "code",
   "source": [
    "unique_set = set(unique_values)\n",
    "amenities_transactions = []\n",
    "\n",
    "for amenity in amenities_beside_comfort_rooms:\n",
    "    if isinstance(amenity, str):\n",
    "        items = [item.strip() for item in amenity.split(',')]\n",
    "        filtered_items = [it for it in items if it in unique_set]\n",
    "        amenities_transactions.append(filtered_items)\n",
    "    else:\n",
    "        amenities_transactions.append([])"
   ],
   "id": "77d2d7d9c4951e75",
   "outputs": [],
   "execution_count": 108
  },
  {
   "metadata": {
    "ExecuteTime": {
     "end_time": "2025-03-05T20:02:32.120686Z",
     "start_time": "2025-03-05T20:02:32.092521Z"
    }
   },
   "cell_type": "code",
   "source": [
    "\n",
    "# Use TransactionEncoder to convert to a one-hot encoded format\n",
    "te = TransactionEncoder()\n",
    "te_ary = te.fit(amenities_transactions).transform(amenities_transactions)\n",
    "amenities_df = pd.DataFrame(te_ary, columns=te.columns_)\n",
    "\n",
    "# Apply apriori algorithm to find frequent itemsets\n",
    "# You can adjust min_support as needed\n",
    "frequent_itemsets = apriori(amenities_df, min_support=0.1, use_colnames=True)\n",
    "\n",
    "# Generate association rules\n",
    "rules = association_rules(frequent_itemsets, metric=\"confidence\", min_threshold=0.5)\n",
    "\n",
    "# Display results as formatted DataFrames\n",
    "# print(\"Frequent Itemsets:\")\n",
    "# display(frequent_itemsets)\n",
    "\n",
    "print(\"\\nAssociation Rules:\")\n",
    "display(rules[['antecedents', 'consequents', 'support', 'confidence', 'lift']].sort_values(by='lift', ascending=False).head(5))"
   ],
   "id": "2703e80cd691b2fc",
   "outputs": [
    {
     "name": "stdout",
     "output_type": "stream",
     "text": [
      "\n",
      "Association Rules:\n"
     ]
    },
    {
     "data": {
      "text/plain": [
       "                                antecedents  \\\n",
       "13                               (Services)   \n",
       "4                                (Services)   \n",
       "11           (Food and Beverages, Services)   \n",
       "9   (Food and Beverages, Department Stores)   \n",
       "3              (Home Furnishings and Decor)   \n",
       "\n",
       "                                consequents   support  confidence      lift  \n",
       "13  (Food and Beverages, Department Stores)  0.106195    0.750000  3.259615  \n",
       "4                       (Department Stores)  0.115044    0.812500  2.295313  \n",
       "11                      (Department Stores)  0.106195    0.800000  2.260000  \n",
       "9                           (Entertainment)  0.150442    0.653846  1.944332  \n",
       "3                       (Department Stores)  0.106195    0.666667  1.883333  "
      ],
      "text/html": [
       "<div>\n",
       "<style scoped>\n",
       "    .dataframe tbody tr th:only-of-type {\n",
       "        vertical-align: middle;\n",
       "    }\n",
       "\n",
       "    .dataframe tbody tr th {\n",
       "        vertical-align: top;\n",
       "    }\n",
       "\n",
       "    .dataframe thead th {\n",
       "        text-align: right;\n",
       "    }\n",
       "</style>\n",
       "<table border=\"1\" class=\"dataframe\">\n",
       "  <thead>\n",
       "    <tr style=\"text-align: right;\">\n",
       "      <th></th>\n",
       "      <th>antecedents</th>\n",
       "      <th>consequents</th>\n",
       "      <th>support</th>\n",
       "      <th>confidence</th>\n",
       "      <th>lift</th>\n",
       "    </tr>\n",
       "  </thead>\n",
       "  <tbody>\n",
       "    <tr>\n",
       "      <th>13</th>\n",
       "      <td>(Services)</td>\n",
       "      <td>(Food and Beverages, Department Stores)</td>\n",
       "      <td>0.106195</td>\n",
       "      <td>0.750000</td>\n",
       "      <td>3.259615</td>\n",
       "    </tr>\n",
       "    <tr>\n",
       "      <th>4</th>\n",
       "      <td>(Services)</td>\n",
       "      <td>(Department Stores)</td>\n",
       "      <td>0.115044</td>\n",
       "      <td>0.812500</td>\n",
       "      <td>2.295313</td>\n",
       "    </tr>\n",
       "    <tr>\n",
       "      <th>11</th>\n",
       "      <td>(Food and Beverages, Services)</td>\n",
       "      <td>(Department Stores)</td>\n",
       "      <td>0.106195</td>\n",
       "      <td>0.800000</td>\n",
       "      <td>2.260000</td>\n",
       "    </tr>\n",
       "    <tr>\n",
       "      <th>9</th>\n",
       "      <td>(Food and Beverages, Department Stores)</td>\n",
       "      <td>(Entertainment)</td>\n",
       "      <td>0.150442</td>\n",
       "      <td>0.653846</td>\n",
       "      <td>1.944332</td>\n",
       "    </tr>\n",
       "    <tr>\n",
       "      <th>3</th>\n",
       "      <td>(Home Furnishings and Decor)</td>\n",
       "      <td>(Department Stores)</td>\n",
       "      <td>0.106195</td>\n",
       "      <td>0.666667</td>\n",
       "      <td>1.883333</td>\n",
       "    </tr>\n",
       "  </tbody>\n",
       "</table>\n",
       "</div>"
      ]
     },
     "metadata": {},
     "output_type": "display_data"
    }
   ],
   "execution_count": 109
  },
  {
   "metadata": {
    "ExecuteTime": {
     "end_time": "2025-03-05T20:02:32.166825Z",
     "start_time": "2025-03-05T20:02:32.164532Z"
    }
   },
   "cell_type": "code",
   "source": "",
   "id": "433860b28b00fd3",
   "outputs": [],
   "execution_count": null
  }
 ],
 "metadata": {
  "kernelspec": {
   "display_name": "Python 3",
   "language": "python",
   "name": "python3"
  },
  "language_info": {
   "codemirror_mode": {
    "name": "ipython",
    "version": 3
   },
   "file_extension": ".py",
   "mimetype": "text/x-python",
   "name": "python",
   "nbconvert_exporter": "python",
   "pygments_lexer": "ipython3",
   "version": "3.12.3"
  }
 },
 "nbformat": 4,
 "nbformat_minor": 5
}
