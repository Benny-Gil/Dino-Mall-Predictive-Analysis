{
 "cells": [
  {
   "cell_type": "markdown",
   "metadata": {},
   "source": [
    "# Descriptive analysis objectives\n",
    "We are tasked to derive atleaset 8 descriptive analyses on mall data. *potential* objectives:\n",
    "1. **Gender Distribution**: Analyze the distribution of respondents by gender.\n",
    "2. **Age Range Distribution**: Analyze the distribution of respondents by age range.\n",
    "3. **Occupation Distribution**: Analyze the distribution of respondents by occupation.\n",
    "4. **Monthly Income Distribution**: Analyze the distribution of respondents by monthly income.\n",
    "5. **Interest in Store Categories**: Analyze the interest levels in different store categories (e.g., Apparel, Electronics, Food and Beverages).\n",
    "6. **Comfort Room Location Preference**: Analyze the preference for comfort room locations within the mall.\n",
    "7. **Green Space Preference**: Analyze the preference for green spaces within the mall.\n",
    "8. **Amenities Preference**: Analyze the preference for amenities located beside various mall facilities (e.g., customer service desks, comfort rooms, common areas).\n",
    "9. **Interest in Mall Sections**: Analyze the interest levels in different sections of the mall (e.g., near the entrance, center of the mall, end of the mall).\n",
    "10. **Correlation Analysis**: Analyze the correlation between different variables such as age range, occupation, and interest in store categories.\n"
   ]
  }
 ],
 "metadata": {
  "language_info": {
   "name": "python"
  }
 },
 "nbformat": 4,
 "nbformat_minor": 2
}
